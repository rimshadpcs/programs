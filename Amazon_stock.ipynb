{
  "nbformat": 4,
  "nbformat_minor": 0,
  "metadata": {
    "colab": {
      "name": "Amazon stock.ipynb",
      "provenance": []
    },
    "kernelspec": {
      "name": "python3",
      "display_name": "Python 3"
    },
    "accelerator": "TPU"
  },
  "cells": [
    {
      "cell_type": "code",
      "metadata": {
        "colab": {
          "base_uri": "https://localhost:8080/"
        },
        "id": "hAhboaH_Pi6L",
        "outputId": "f9943c08-708a-4e53-abc6-a1ef0da4cc1b"
      },
      "source": [
        "import pandas as pd\r\n",
        "from google.colab import drive\r\n",
        "drive.mount('/content/drive')"
      ],
      "execution_count": null,
      "outputs": [
        {
          "output_type": "stream",
          "text": [
            "Drive already mounted at /content/drive; to attempt to forcibly remount, call drive.mount(\"/content/drive\", force_remount=True).\n"
          ],
          "name": "stdout"
        }
      ]
    },
    {
      "cell_type": "code",
      "metadata": {
        "id": "JsiQjLI5P1lV"
      },
      "source": [
        "df =pd.read_csv('/content/drive/MyDrive/datasets/Amazon.csv')"
      ],
      "execution_count": null,
      "outputs": []
    },
    {
      "cell_type": "code",
      "metadata": {
        "colab": {
          "base_uri": "https://localhost:8080/",
          "height": 419
        },
        "id": "mFFm0aa2QH50",
        "outputId": "56d91a65-5c18-4114-ffda-dc921c627a4c"
      },
      "source": [
        "df"
      ],
      "execution_count": null,
      "outputs": [
        {
          "output_type": "execute_result",
          "data": {
            "text/html": [
              "<div>\n",
              "<style scoped>\n",
              "    .dataframe tbody tr th:only-of-type {\n",
              "        vertical-align: middle;\n",
              "    }\n",
              "\n",
              "    .dataframe tbody tr th {\n",
              "        vertical-align: top;\n",
              "    }\n",
              "\n",
              "    .dataframe thead th {\n",
              "        text-align: right;\n",
              "    }\n",
              "</style>\n",
              "<table border=\"1\" class=\"dataframe\">\n",
              "  <thead>\n",
              "    <tr style=\"text-align: right;\">\n",
              "      <th></th>\n",
              "      <th>Date</th>\n",
              "      <th>Open</th>\n",
              "      <th>High</th>\n",
              "      <th>Low</th>\n",
              "      <th>Close</th>\n",
              "      <th>Adj Close</th>\n",
              "      <th>Volume</th>\n",
              "    </tr>\n",
              "  </thead>\n",
              "  <tbody>\n",
              "    <tr>\n",
              "      <th>0</th>\n",
              "      <td>1997-05-15</td>\n",
              "      <td>2.437500</td>\n",
              "      <td>2.500000</td>\n",
              "      <td>1.927083</td>\n",
              "      <td>1.958333</td>\n",
              "      <td>1.958333</td>\n",
              "      <td>72156000</td>\n",
              "    </tr>\n",
              "    <tr>\n",
              "      <th>1</th>\n",
              "      <td>1997-05-16</td>\n",
              "      <td>1.968750</td>\n",
              "      <td>1.979167</td>\n",
              "      <td>1.708333</td>\n",
              "      <td>1.729167</td>\n",
              "      <td>1.729167</td>\n",
              "      <td>14700000</td>\n",
              "    </tr>\n",
              "    <tr>\n",
              "      <th>2</th>\n",
              "      <td>1997-05-19</td>\n",
              "      <td>1.760417</td>\n",
              "      <td>1.770833</td>\n",
              "      <td>1.625000</td>\n",
              "      <td>1.708333</td>\n",
              "      <td>1.708333</td>\n",
              "      <td>6106800</td>\n",
              "    </tr>\n",
              "    <tr>\n",
              "      <th>3</th>\n",
              "      <td>1997-05-20</td>\n",
              "      <td>1.729167</td>\n",
              "      <td>1.750000</td>\n",
              "      <td>1.635417</td>\n",
              "      <td>1.635417</td>\n",
              "      <td>1.635417</td>\n",
              "      <td>5467200</td>\n",
              "    </tr>\n",
              "    <tr>\n",
              "      <th>4</th>\n",
              "      <td>1997-05-21</td>\n",
              "      <td>1.635417</td>\n",
              "      <td>1.645833</td>\n",
              "      <td>1.375000</td>\n",
              "      <td>1.427083</td>\n",
              "      <td>1.427083</td>\n",
              "      <td>18853200</td>\n",
              "    </tr>\n",
              "    <tr>\n",
              "      <th>...</th>\n",
              "      <td>...</td>\n",
              "      <td>...</td>\n",
              "      <td>...</td>\n",
              "      <td>...</td>\n",
              "      <td>...</td>\n",
              "      <td>...</td>\n",
              "      <td>...</td>\n",
              "    </tr>\n",
              "    <tr>\n",
              "      <th>5837</th>\n",
              "      <td>2020-07-27</td>\n",
              "      <td>3062.000000</td>\n",
              "      <td>3098.000000</td>\n",
              "      <td>3015.770020</td>\n",
              "      <td>3055.209961</td>\n",
              "      <td>3055.209961</td>\n",
              "      <td>4170500</td>\n",
              "    </tr>\n",
              "    <tr>\n",
              "      <th>5838</th>\n",
              "      <td>2020-07-28</td>\n",
              "      <td>3054.270020</td>\n",
              "      <td>3077.090088</td>\n",
              "      <td>2995.760010</td>\n",
              "      <td>3000.330078</td>\n",
              "      <td>3000.330078</td>\n",
              "      <td>3126700</td>\n",
              "    </tr>\n",
              "    <tr>\n",
              "      <th>5839</th>\n",
              "      <td>2020-07-29</td>\n",
              "      <td>3030.989990</td>\n",
              "      <td>3039.159912</td>\n",
              "      <td>2996.770020</td>\n",
              "      <td>3033.530029</td>\n",
              "      <td>3033.530029</td>\n",
              "      <td>2974100</td>\n",
              "    </tr>\n",
              "    <tr>\n",
              "      <th>5840</th>\n",
              "      <td>2020-07-30</td>\n",
              "      <td>3014.000000</td>\n",
              "      <td>3092.000000</td>\n",
              "      <td>3005.000000</td>\n",
              "      <td>3051.879883</td>\n",
              "      <td>3051.879883</td>\n",
              "      <td>6128300</td>\n",
              "    </tr>\n",
              "    <tr>\n",
              "      <th>5841</th>\n",
              "      <td>2020-07-31</td>\n",
              "      <td>3244.000000</td>\n",
              "      <td>3246.820068</td>\n",
              "      <td>3151.000000</td>\n",
              "      <td>3164.679932</td>\n",
              "      <td>3164.679932</td>\n",
              "      <td>8085500</td>\n",
              "    </tr>\n",
              "  </tbody>\n",
              "</table>\n",
              "<p>5842 rows × 7 columns</p>\n",
              "</div>"
            ],
            "text/plain": [
              "            Date         Open         High  ...        Close    Adj Close    Volume\n",
              "0     1997-05-15     2.437500     2.500000  ...     1.958333     1.958333  72156000\n",
              "1     1997-05-16     1.968750     1.979167  ...     1.729167     1.729167  14700000\n",
              "2     1997-05-19     1.760417     1.770833  ...     1.708333     1.708333   6106800\n",
              "3     1997-05-20     1.729167     1.750000  ...     1.635417     1.635417   5467200\n",
              "4     1997-05-21     1.635417     1.645833  ...     1.427083     1.427083  18853200\n",
              "...          ...          ...          ...  ...          ...          ...       ...\n",
              "5837  2020-07-27  3062.000000  3098.000000  ...  3055.209961  3055.209961   4170500\n",
              "5838  2020-07-28  3054.270020  3077.090088  ...  3000.330078  3000.330078   3126700\n",
              "5839  2020-07-29  3030.989990  3039.159912  ...  3033.530029  3033.530029   2974100\n",
              "5840  2020-07-30  3014.000000  3092.000000  ...  3051.879883  3051.879883   6128300\n",
              "5841  2020-07-31  3244.000000  3246.820068  ...  3164.679932  3164.679932   8085500\n",
              "\n",
              "[5842 rows x 7 columns]"
            ]
          },
          "metadata": {
            "tags": []
          },
          "execution_count": 134
        }
      ]
    },
    {
      "cell_type": "code",
      "metadata": {
        "id": "mW-WStrIQJuS"
      },
      "source": [
        "import math\r\n",
        "import numpy as np\r\n",
        "from sklearn.preprocessing import MinMaxScaler\r\n",
        "from keras.models import Sequential\r\n",
        "from keras.layers import Dense, LSTM\r\n",
        "import matplotlib.pyplot as plt\r\n",
        "plt.style.use('fivethirtyeight')"
      ],
      "execution_count": null,
      "outputs": []
    },
    {
      "cell_type": "code",
      "metadata": {
        "colab": {
          "base_uri": "https://localhost:8080/"
        },
        "id": "nBf_AUocT5Zd",
        "outputId": "461f57f5-5272-4e5f-c4e0-2b7950e8c7fb"
      },
      "source": [
        "df.shape"
      ],
      "execution_count": null,
      "outputs": [
        {
          "output_type": "execute_result",
          "data": {
            "text/plain": [
              "(5842, 7)"
            ]
          },
          "metadata": {
            "tags": []
          },
          "execution_count": 136
        }
      ]
    },
    {
      "cell_type": "code",
      "metadata": {
        "colab": {
          "base_uri": "https://localhost:8080/",
          "height": 558
        },
        "id": "SjF4laFJU9Y2",
        "outputId": "ea3ac257-3f3b-440b-e9e5-e34cd0aebc3c"
      },
      "source": [
        "plt.figure(figsize=(16,8))\r\n",
        "plt.title('Close Price History')\r\n",
        "plt.plot(df['Close'])\r\n",
        "plt.xlabel('Days', fontsize = 18)\r\n",
        "plt.ylabel('Close price USD', fontsize = 18)\r\n",
        "plt.show()"
      ],
      "execution_count": null,
      "outputs": [
        {
          "output_type": "display_data",
          "data": {
            "image/png": "[encoded data removed]",
            "text/plain": [
              "<Figure size 1152x576 with 1 Axes>"
            ]
          },
          "metadata": {
            "tags": []
          }
        }
      ]
    },
    {
      "cell_type": "code",
      "metadata": {
        "id": "eUc6_YO4V20m"
      },
      "source": [
        "# Data frame with only close column\r\n",
        "data = df.filter(['Close'])\r\n",
        "dataset = data.values"
      ],
      "execution_count": null,
      "outputs": []
    },
    {
      "cell_type": "code",
      "metadata": {
        "colab": {
          "base_uri": "https://localhost:8080/"
        },
        "id": "oX4t3ACbX4DO",
        "outputId": "85ad7eca-84f2-4b1d-f5d7-8243c3460412"
      },
      "source": [
        "#Geting the number of rows to train the model on\r\n",
        "training_data_len = math.ceil( len(dataset) * .8)\r\n",
        "training_data_len"
      ],
      "execution_count": null,
      "outputs": [
        {
          "output_type": "execute_result",
          "data": {
            "text/plain": [
              "4674"
            ]
          },
          "metadata": {
            "tags": []
          },
          "execution_count": 139
        }
      ]
    },
    {
      "cell_type": "code",
      "metadata": {
        "colab": {
          "base_uri": "https://localhost:8080/"
        },
        "id": "TkYWlyy-YX02",
        "outputId": "bb525423-d02e-4143-a2e6-6357d7493e04"
      },
      "source": [
        "# Scale the data\r\n",
        "scaler = MinMaxScaler(feature_range=(0,1))\r\n",
        "scaled_data = scaler.fit_transform(dataset)\r\n",
        "\r\n",
        "scaled_data"
      ],
      "execution_count": null,
      "outputs": [
        {
          "output_type": "execute_result",
          "data": {
            "text/plain": [
              "array([[1.75857959e-04],\n",
              "       [1.04212099e-04],\n",
              "       [9.76988660e-05],\n",
              "       ...,\n",
              "       [9.47955432e-01],\n",
              "       [9.53692264e-01],\n",
              "       [9.88957662e-01]])"
            ]
          },
          "metadata": {
            "tags": []
          },
          "execution_count": 140
        }
      ]
    },
    {
      "cell_type": "code",
      "metadata": {
        "id": "EWzTrSx_ZMb3"
      },
      "source": [
        "# Create trainng data set\r\n",
        "#Creating scaled training data set\r\n",
        "train_data = scaled_data[0:training_data_len, :]\r\n",
        "#Split the data into x_train and y_train datasets\r\n",
        "x_train = []\r\n",
        "y_train = []"
      ],
      "execution_count": null,
      "outputs": []
    },
    {
      "cell_type": "code",
      "metadata": {
        "colab": {
          "base_uri": "https://localhost:8080/"
        },
        "id": "70CYWTfxZ3D3",
        "outputId": "2fd65457-047d-4ffc-84b2-45aa14738264"
      },
      "source": [
        "for i in range(60, len(train_data)):\r\n",
        "  x_train.append(train_data[i-60:i,0])\r\n",
        "  y_train.append(train_data[i,0])\r\n",
        "  if i <= 60:\r\n",
        "    print(x_train) # past 60 days value\r\n",
        "    print(y_train) # 61st value that our model want to predict\r\n",
        "    print()"
      ],
      "execution_count": null,
      "outputs": [
        {
          "output_type": "stream",
          "text": [
            "[array([1.75857959e-04, 1.04212099e-04, 9.76988660e-05, 7.49024391e-05,\n",
            "       9.76988660e-06, 0.00000000e+00, 3.25662763e-05, 5.86193196e-05,\n",
            "       4.23361629e-05, 3.41946031e-05, 3.25662763e-05, 3.58228927e-05,\n",
            "       2.60530061e-05, 6.51323289e-06, 4.55927793e-05, 8.14157093e-05,\n",
            "       9.11855959e-05, 5.86193196e-05, 4.55927793e-05, 6.51325525e-05,\n",
            "       5.86193196e-05, 5.53626659e-05, 3.41946031e-05, 3.58228927e-05,\n",
            "       3.58228927e-05, 4.07078360e-05, 3.25662763e-05, 3.58228927e-05,\n",
            "       3.58228927e-05, 3.58228927e-05, 2.93096598e-05, 4.55927793e-05,\n",
            "       3.74512196e-05, 6.02476092e-05, 1.61203129e-04, 1.88884462e-04,\n",
            "       2.83326674e-04, 2.89839982e-04, 3.64742421e-04, 2.80070095e-04,\n",
            "       2.31220662e-04, 3.25662874e-04, 2.93096561e-04, 2.57273668e-04,\n",
            "       2.37733895e-04, 2.45875492e-04, 2.31220662e-04, 2.80070095e-04,\n",
            "       2.70300208e-04, 2.60530322e-04, 2.89839982e-04, 3.38689415e-04,\n",
            "       3.28919528e-04, 3.12636334e-04, 3.19149641e-04, 2.86583328e-04,\n",
            "       2.54017014e-04, 2.67043555e-04, 2.44247128e-04, 2.80070095e-04])]\n",
            "[0.0002914682712720216]\n",
            "\n"
          ],
          "name": "stdout"
        }
      ]
    },
    {
      "cell_type": "code",
      "metadata": {
        "id": "3MmIc5L_aZ8X"
      },
      "source": [
        "# Converting x_train and y_train to numpy array inorder to train LSTM\r\n",
        "x_train, y_train= np.array(x_train),np.array(y_train)"
      ],
      "execution_count": null,
      "outputs": []
    },
    {
      "cell_type": "code",
      "metadata": {
        "colab": {
          "base_uri": "https://localhost:8080/"
        },
        "id": "R7CPQP1Wbw-a",
        "outputId": "56d2c258-487b-433e-eb03-10ddddbb6c33"
      },
      "source": [
        "# Reshape the data\r\n",
        "x_train.shape"
      ],
      "execution_count": null,
      "outputs": [
        {
          "output_type": "execute_result",
          "data": {
            "text/plain": [
              "(4614, 60)"
            ]
          },
          "metadata": {
            "tags": []
          },
          "execution_count": 144
        }
      ]
    },
    {
      "cell_type": "code",
      "metadata": {
        "colab": {
          "base_uri": "https://localhost:8080/"
        },
        "id": "KokrE3occDQB",
        "outputId": "ee001915-fdb5-4bb7-d3b8-c313e36819bc"
      },
      "source": [
        "# We need our data shape to be 3 Dimensional inoder to train LSTM\r\n",
        "x_train = np.reshape(x_train,(x_train.shape[0],x_train.shape[1],1))#samples,number of times,number of features(closing  price)\r\n",
        "x_train.shape"
      ],
      "execution_count": null,
      "outputs": [
        {
          "output_type": "execute_result",
          "data": {
            "text/plain": [
              "(4614, 60, 1)"
            ]
          },
          "metadata": {
            "tags": []
          },
          "execution_count": 145
        }
      ]
    },
    {
      "cell_type": "code",
      "metadata": {
        "id": "jlXYzeY5c0nq"
      },
      "source": [
        "#Build the LSTM model\r\n",
        "model = Sequential()\r\n",
        "model.add(LSTM(50, return_sequences=True, input_shape=(x_train.shape[1],1)))\r\n",
        "model.add(LSTM(50, return_sequences=False))\r\n",
        "model.add(Dense(25))\r\n",
        "model.add(Dense(1))"
      ],
      "execution_count": null,
      "outputs": []
    },
    {
      "cell_type": "code",
      "metadata": {
        "id": "JAemMnalc9ba"
      },
      "source": [
        "# Model compilation\r\n",
        "model.compile(optimizer='adam', loss='mean_squared_error')"
      ],
      "execution_count": null,
      "outputs": []
    },
    {
      "cell_type": "code",
      "metadata": {
        "colab": {
          "base_uri": "https://localhost:8080/"
        },
        "id": "dR5cAI1fd7uj",
        "outputId": "38b5cb5e-99d5-4dc6-bc99-1e9420dbfb3f"
      },
      "source": [
        "#model training\r\n",
        "model.fit(x_train, y_train, batch_size=1, epochs=1)"
      ],
      "execution_count": null,
      "outputs": [
        {
          "output_type": "stream",
          "text": [
            "4614/4614 [==============================] - 103s 22ms/step - loss: 8.8511e-05\n"
          ],
          "name": "stdout"
        },
        {
          "output_type": "execute_result",
          "data": {
            "text/plain": [
              "<tensorflow.python.keras.callbacks.History at 0x7f75c813f128>"
            ]
          },
          "metadata": {
            "tags": []
          },
          "execution_count": 148
        }
      ]
    },
    {
      "cell_type": "code",
      "metadata": {
        "colab": {
          "base_uri": "https://localhost:8080/"
        },
        "id": "7ocSrQ9NeW_i",
        "outputId": "e0a0f147-2432-4fa3-c7b5-e35030729ed9"
      },
      "source": [
        "df.shape"
      ],
      "execution_count": null,
      "outputs": [
        {
          "output_type": "execute_result",
          "data": {
            "text/plain": [
              "(5842, 7)"
            ]
          },
          "metadata": {
            "tags": []
          },
          "execution_count": 149
        }
      ]
    },
    {
      "cell_type": "code",
      "metadata": {
        "id": "GcYm9e8ViGwM"
      },
      "source": [
        "# Testing data set from index\r\n",
        "test_data = scaled_data[training_data_len - 60:, :]\r\n",
        "x_test = []\r\n",
        "y_test = dataset[training_data_len:, :]\r\n",
        "for i in range(60, len(test_data)):\r\n",
        "  x_test.append(test_data[i-60:i, 0])"
      ],
      "execution_count": null,
      "outputs": []
    },
    {
      "cell_type": "code",
      "metadata": {
        "id": "_uAgc_Azrs7K"
      },
      "source": [
        "x_test = np.array(x_test)"
      ],
      "execution_count": null,
      "outputs": []
    },
    {
      "cell_type": "code",
      "metadata": {
        "id": "rkLYcvY-it8c"
      },
      "source": [
        "# Convert data to numpy array\r\n",
        "x_test = np.reshape(x_test, (x_test.shape[0], x_test.shape[1],1))"
      ],
      "execution_count": null,
      "outputs": []
    },
    {
      "cell_type": "code",
      "metadata": {
        "id": "s7QGocWyjFrj"
      },
      "source": [
        "predictions = model.predict(x_test)\r\n",
        "predictions = scaler.inverse_transform(predictions)"
      ],
      "execution_count": null,
      "outputs": []
    },
    {
      "cell_type": "code",
      "metadata": {
        "colab": {
          "base_uri": "https://localhost:8080/"
        },
        "id": "C_5b8LRDjcXs",
        "outputId": "5fd5b7b6-b40e-4076-e551-259db419b442"
      },
      "source": [
        "#rmse \r\n",
        "rmse = np.sqrt(np.mean(predictions - y_test)**2)                        \r\n",
        "rmse                                               "
      ],
      "execution_count": null,
      "outputs": [
        {
          "output_type": "execute_result",
          "data": {
            "text/plain": [
              "28.25450575841616"
            ]
          },
          "metadata": {
            "tags": []
          },
          "execution_count": 155
        }
      ]
    },
    {
      "cell_type": "code",
      "metadata": {
        "colab": {
          "base_uri": "https://localhost:8080/",
          "height": 660
        },
        "id": "n47KXu9So0ZD",
        "outputId": "419e22e5-cf5b-4503-98b3-2b07dab29928"
      },
      "source": [
        "#Plot the data\r\n",
        "train = data[:training_data_len]\r\n",
        "valid = data[training_data_len:]\r\n",
        "valid['Predictions'] = predictions\r\n",
        "\r\n",
        "# Visuaization\r\n",
        "plt.figure(figsize=(16,8))\r\n",
        "plt.title('Model')\r\n",
        "plt.xlabel('Days', fontsize=18)\r\n",
        "plt.ylabel('Close Price USD',fontsize=18)\r\n",
        "plt.plot(train['Close'])\r\n",
        "plt.plot(valid[['Close', 'Predictions']])\r\n",
        "plt.legend(['Train', 'Val', 'Predictions'], loc='lower right')\r\n",
        "plt.show()\r\n",
        "\r\n"
      ],
      "execution_count": null,
      "outputs": [
        {
          "output_type": "stream",
          "text": [
            "/usr/local/lib/python3.6/dist-packages/ipykernel_launcher.py:4: SettingWithCopyWarning: \n",
            "A value is trying to be set on a copy of a slice from a DataFrame.\n",
            "Try using .loc[row_indexer,col_indexer] = value instead\n",
            "\n",
            "See the caveats in the documentation: https://pandas.pydata.org/pandas-docs/stable/user_guide/indexing.html#returning-a-view-versus-a-copy\n",
            "  after removing the cwd from sys.path.\n"
          ],
          "name": "stderr"
        },
        {
          "output_type": "display_data",
          "data": {
            "image/png": "[encoded data removed]",
            "text/plain": [
              "<Figure size 1152x576 with 1 Axes>"
            ]
          },
          "metadata": {
            "tags": []
          }
        }
      ]
    },
    {
      "cell_type": "code",
      "metadata": {
        "colab": {
          "base_uri": "https://localhost:8080/",
          "height": 419
        },
        "id": "dzf3R3UsrHTv",
        "outputId": "268d0ea3-4bb5-4b71-fe63-13289caf5aab"
      },
      "source": [
        "valid"
      ],
      "execution_count": null,
      "outputs": [
        {
          "output_type": "execute_result",
          "data": {
            "text/html": [
              "<div>\n",
              "<style scoped>\n",
              "    .dataframe tbody tr th:only-of-type {\n",
              "        vertical-align: middle;\n",
              "    }\n",
              "\n",
              "    .dataframe tbody tr th {\n",
              "        vertical-align: top;\n",
              "    }\n",
              "\n",
              "    .dataframe thead th {\n",
              "        text-align: right;\n",
              "    }\n",
              "</style>\n",
              "<table border=\"1\" class=\"dataframe\">\n",
              "  <thead>\n",
              "    <tr style=\"text-align: right;\">\n",
              "      <th></th>\n",
              "      <th>Close</th>\n",
              "      <th>Predictions</th>\n",
              "    </tr>\n",
              "  </thead>\n",
              "  <tbody>\n",
              "    <tr>\n",
              "      <th>4674</th>\n",
              "      <td>662.320007</td>\n",
              "      <td>662.683105</td>\n",
              "    </tr>\n",
              "    <tr>\n",
              "      <th>4675</th>\n",
              "      <td>640.150024</td>\n",
              "      <td>660.993530</td>\n",
              "    </tr>\n",
              "    <tr>\n",
              "      <th>4676</th>\n",
              "      <td>657.909973</td>\n",
              "      <td>655.797424</td>\n",
              "    </tr>\n",
              "    <tr>\n",
              "      <th>4677</th>\n",
              "      <td>658.640015</td>\n",
              "      <td>652.791138</td>\n",
              "    </tr>\n",
              "    <tr>\n",
              "      <th>4678</th>\n",
              "      <td>675.770020</td>\n",
              "      <td>651.247375</td>\n",
              "    </tr>\n",
              "    <tr>\n",
              "      <th>...</th>\n",
              "      <td>...</td>\n",
              "      <td>...</td>\n",
              "    </tr>\n",
              "    <tr>\n",
              "      <th>5837</th>\n",
              "      <td>3055.209961</td>\n",
              "      <td>2880.509033</td>\n",
              "    </tr>\n",
              "    <tr>\n",
              "      <th>5838</th>\n",
              "      <td>3000.330078</td>\n",
              "      <td>2875.445801</td>\n",
              "    </tr>\n",
              "    <tr>\n",
              "      <th>5839</th>\n",
              "      <td>3033.530029</td>\n",
              "      <td>2866.138428</td>\n",
              "    </tr>\n",
              "    <tr>\n",
              "      <th>5840</th>\n",
              "      <td>3051.879883</td>\n",
              "      <td>2862.039795</td>\n",
              "    </tr>\n",
              "    <tr>\n",
              "      <th>5841</th>\n",
              "      <td>3164.679932</td>\n",
              "      <td>2863.116455</td>\n",
              "    </tr>\n",
              "  </tbody>\n",
              "</table>\n",
              "<p>1168 rows × 2 columns</p>\n",
              "</div>"
            ],
            "text/plain": [
              "            Close  Predictions\n",
              "4674   662.320007   662.683105\n",
              "4675   640.150024   660.993530\n",
              "4676   657.909973   655.797424\n",
              "4677   658.640015   652.791138\n",
              "4678   675.770020   651.247375\n",
              "...           ...          ...\n",
              "5837  3055.209961  2880.509033\n",
              "5838  3000.330078  2875.445801\n",
              "5839  3033.530029  2866.138428\n",
              "5840  3051.879883  2862.039795\n",
              "5841  3164.679932  2863.116455\n",
              "\n",
              "[1168 rows x 2 columns]"
            ]
          },
          "metadata": {
            "tags": []
          },
          "execution_count": 158
        }
      ]
    },
    {
      "cell_type": "code",
      "metadata": {
        "colab": {
          "base_uri": "https://localhost:8080/"
        },
        "id": "6aVgQoVvvbLd",
        "outputId": "d1e58690-c3d6-4f68-c8f2-5aae4f580e8b"
      },
      "source": [
        "new_df = df.filter(['Close'])\r\n",
        "last_60_days = new_df[-60:].values\r\n",
        "# Last 60 days closing price values and converting it to an array\r\n",
        "last_60_days_scaled = scaler.transform(last_60_days)\r\n",
        "#Create an empty list\r\n",
        "X_test = []\r\n",
        "#Appending last 60 days\r\n",
        "X_test.append(last_60_days_scaled)\r\n",
        "#Converst the X_test data set to numpy array\r\n",
        "X_test = np.array(X_test)\r\n",
        "# reshaping to 3d\r\n",
        "X_test = np.reshape(X_test, (X_test.shape[0], X_test.shape[1], 1))\r\n",
        "#get the predicted scaled price\r\n",
        "pred_price = model.predict(X_test)\r\n",
        "#undo scaling\r\n",
        "pred_price=scaler.inverse_transform(pred_price)\r\n",
        "print(pred_price)"
      ],
      "execution_count": null,
      "outputs": [
        {
          "output_type": "stream",
          "text": [
            "[[2882.169]]\n"
          ],
          "name": "stdout"
        }
      ]
    },
    {
      "cell_type": "code",
      "metadata": {
        "colab": {
          "base_uri": "https://localhost:8080/",
          "height": 80
        },
        "id": "yKW53TUTwX_W",
        "outputId": "590996eb-09ad-40bb-932f-45102e559f6e"
      },
      "source": [
        "df.tail(1)"
      ],
      "execution_count": null,
      "outputs": [
        {
          "output_type": "execute_result",
          "data": {
            "text/html": [
              "<div>\n",
              "<style scoped>\n",
              "    .dataframe tbody tr th:only-of-type {\n",
              "        vertical-align: middle;\n",
              "    }\n",
              "\n",
              "    .dataframe tbody tr th {\n",
              "        vertical-align: top;\n",
              "    }\n",
              "\n",
              "    .dataframe thead th {\n",
              "        text-align: right;\n",
              "    }\n",
              "</style>\n",
              "<table border=\"1\" class=\"dataframe\">\n",
              "  <thead>\n",
              "    <tr style=\"text-align: right;\">\n",
              "      <th></th>\n",
              "      <th>Date</th>\n",
              "      <th>Open</th>\n",
              "      <th>High</th>\n",
              "      <th>Low</th>\n",
              "      <th>Close</th>\n",
              "      <th>Adj Close</th>\n",
              "      <th>Volume</th>\n",
              "    </tr>\n",
              "  </thead>\n",
              "  <tbody>\n",
              "    <tr>\n",
              "      <th>5841</th>\n",
              "      <td>2020-07-31</td>\n",
              "      <td>3244.0</td>\n",
              "      <td>3246.820068</td>\n",
              "      <td>3151.0</td>\n",
              "      <td>3164.679932</td>\n",
              "      <td>3164.679932</td>\n",
              "      <td>8085500</td>\n",
              "    </tr>\n",
              "  </tbody>\n",
              "</table>\n",
              "</div>"
            ],
            "text/plain": [
              "            Date    Open         High  ...        Close    Adj Close   Volume\n",
              "5841  2020-07-31  3244.0  3246.820068  ...  3164.679932  3164.679932  8085500\n",
              "\n",
              "[1 rows x 7 columns]"
            ]
          },
          "metadata": {
            "tags": []
          },
          "execution_count": 162
        }
      ]
    },
    {
      "cell_type": "code",
      "metadata": {
        "id": "jTRI3uRExJFN"
      },
      "source": [
        ""
      ],
      "execution_count": null,
      "outputs": []
    }
  ]
}